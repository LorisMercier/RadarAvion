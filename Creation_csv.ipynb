{
 "cells": [
  {
   "cell_type": "markdown",
   "metadata": {},
   "source": [
    "Creation des fichiers csv"
   ]
  },
  {
   "cell_type": "code",
   "execution_count": 43,
   "metadata": {},
   "outputs": [],
   "source": [
    "#Importation des modules nécessaires\n",
    "import pandas as pd\n",
    "import os\n",
    "import numpy as np\n",
    "import flightradar24\n",
    "import csv\n",
    "\n",
    "#Variable servant à l'ensemble du code\n",
    "fr = flightradar24.Api() #API\n",
    "\n",
    "#Mettre ce chemin à jour pour executer le code --> \"../data/\"\n",
    "#chemin=\"../data/\" #Chemin vers les fichiers csv"
   ]
  },
  {
   "cell_type": "markdown",
   "metadata": {},
   "source": [
    "### Récupération des vols aériens + compagnies <a class=\"anchor\" id=\"chapter1\"></a>"
   ]
  },
  {
   "cell_type": "markdown",
   "metadata": {},
   "source": [
    "#### Définition des fonctions  <a class=\"anchor\" id=\"section_1_1\"></a>\n"
   ]
  },
  {
   "cell_type": "code",
   "execution_count": 32,
   "metadata": {},
   "outputs": [],
   "source": [
    "#Fonctions nécessaires à la création des listes de vols\n",
    "def liste_compagnies():\n",
    "  '''\n",
    "  Liste toutes les compagnies aériennes\n",
    "  Retour : Liste de dictionnaire (cle : Name, code, ICAO, valeurs : valeurs associées)\n",
    "  '''\n",
    "  compagnies = fr.get_airlines()\n",
    "  compagnies = compagnies['rows']\n",
    "  return compagnies\n",
    "\n",
    "def vols_une_compagnie(id_compagnie):\n",
    "  '''\n",
    "  Recherche tous les vols pour une compagnie à l'instant T\n",
    "  Parametre : (string) id_compagnie -> Code ICAO de la compagnie aérienne\n",
    "  Retour : Dictionnaire (cle : code vol, valeur : liste de valeurs caractérisant le vol)\n",
    "  '''\n",
    "  dictVol = fr.get_flights(id_compagnie)\n",
    "  del dictVol['full_count']\n",
    "  del dictVol['version']\n",
    "  del dictVol['stats']\n",
    "  return dictVol\n",
    "\n",
    "def conv_dictVol_to_listVol (dictVol):\n",
    "  '''\n",
    "  Convertion des vols sous forme de dictionnaire en liste\n",
    "  Parametre : (dict) dictVol -> Dictionnaire des vols pour une compagnie (code : string) : (Valeurs : list)\n",
    "  Retour : Liste de Liste\n",
    "  '''\n",
    "  list_vols = []\n",
    "  for value in dictVol.values():\n",
    "    value.pop(17)\n",
    "    list_vols.append(value)\n",
    "  return list_vols\n",
    "\n",
    "def vols_liste_compagnies(list_ICAO):\n",
    "  '''\n",
    "  Retourne tous les vols des compagnies présentes dans list_ICAO\n",
    "  Parametre : (list) list_ICAO -> Liste de code ICAO pour compagnie aérienne\n",
    "  Retour : Liste de dictionnaire (cle : Caractéristique du vol (string), valeur : Valeur associée (float ou string)\n",
    "  '''\n",
    "  list_vols_all=[]\n",
    "\n",
    "  for icao in list_ICAO: \n",
    "    list_vols_all += conv_dictVol_to_listVol(vols_une_compagnie(icao))\n",
    "  return list_vols_all"
   ]
  },
  {
   "cell_type": "code",
   "execution_count": 33,
   "metadata": {},
   "outputs": [],
   "source": [
    "#Nom de colonne des caractéristiques d'un vol\n",
    "key_list = ['ICAO24', 'Latitude', 'Longitude','Track', 'Altitude', 'Vitesse', 'Squawk', 'Radar_Feeder', 'Type_avion', 'Registration','Temps_UNIX', 'Depart', 'Arrivee', 'Num_IATA', 'On_ground','Vertical_Speed','Num_ICAO', 'Code_ICAO']"
   ]
  },
  {
   "cell_type": "markdown",
   "metadata": {},
   "source": [
    "#### Exécution <a class=\"anchor\" id=\"section_1_2\"></a>\n"
   ]
  },
  {
   "cell_type": "code",
   "execution_count": 34,
   "metadata": {},
   "outputs": [],
   "source": [
    "#Définition des données\n",
    "df_compagnies = pd.DataFrame(liste_compagnies())\n",
    "\n",
    "allCompagnies = False\n",
    "list_ICAO = []\n",
    "\n",
    "#Récupération des vols via l'API flightRadar\n",
    "if(allCompagnies):\n",
    "    #Pour toutes les compagnies    \n",
    "    for x in df_compagnies.index:\n",
    "        list_ICAO.append(df_compagnies['ICAO'][x])\n",
    "else:\n",
    "    #Pour une liste de compagnies\n",
    "    list_ICAO = ['AFR','KLM','ACA','DLH']\n",
    "\n",
    "#Mise sous forme de DF\n",
    "df_vols = pd.DataFrame(data = vols_liste_compagnies(list_ICAO), columns=key_list)\n",
    "df_vols"
   ]
  },
  {
   "cell_type": "markdown",
   "metadata": {},
   "source": [
    "#### Gestion des doublons <a class=\"anchor\" id=\"section_1_3\"></a>"
   ]
  },
  {
   "cell_type": "code",
   "execution_count": 35,
   "metadata": {},
   "outputs": [],
   "source": [
    "#Creation de fichier si non existant\n",
    "if(not(os.path.isfile(chemin+'Vols_SansDoublons.csv'))):\n",
    "    pd.DataFrame(columns=key_list).to_csv(chemin+\"Vols_SansDoublons.csv\", index=False)\n",
    "\n",
    "#On concatène les anciens vols aux nouveaux\n",
    "df_concat = pd.concat([df_vols,pd.read_csv(chemin+\"Vols_SansDoublons.csv\")])\n",
    "\n",
    "#Suppression des vols en double + vols n'ayant pas d'arrivée\n",
    "df_vols = df_concat.drop_duplicates(subset=['Num_ICAO']).replace(\"\",np.NaN).dropna(subset=['Arrivee','Depart','Code_ICAO'])"
   ]
  },
  {
   "cell_type": "markdown",
   "metadata": {},
   "source": [
    "#### Export en csv <a class=\"anchor\" id=\"section_1_4\"></a>"
   ]
  },
  {
   "cell_type": "code",
   "execution_count": 36,
   "metadata": {},
   "outputs": [],
   "source": [
    "df_vols.to_csv(chemin+\"Vols_SansDoublons.csv\", index=False)"
   ]
  },
  {
   "cell_type": "markdown",
   "metadata": {},
   "source": [
    "### Récupération des compagnies <a class=\"anchor\" id=\"chapter2\"></a>"
   ]
  },
  {
   "cell_type": "code",
   "execution_count": 37,
   "metadata": {},
   "outputs": [],
   "source": [
    "df_compagnies = pd.DataFrame(liste_compagnies())\n",
    "df_compagnies.rename({\"ICAO\" : \"Code_ICAO\"}, axis=1, inplace=True)\n",
    "\n",
    "\n",
    "df_airlinesOpenFlight = pd.read_csv(chemin+\"airlinesOpenFlights.csv\")\n",
    "\n",
    "ancien_Pays = [\"Russia]]\",\"Russian Federation\",\"Lao Peoples Democratic Republic\",\"Democratic Republic of Congo\",\"Republic of Korea\",\n",
    "                \"Democratic People's Republic of Korea\",\"Democratic Republic of the Congo\",\"Czech Republic\",\"Republic of the Congo\",\n",
    "                \"Democratic Republic of Congo\",\"Democratic Republic of The Congo\",\"Antigua and Barbuda\",\"Bosnia and Herzegovina\",\n",
    "                \"Burma\",\"Myanmar\",\"Hong Kong SAR of China\",\"Syrian Arab Republic\",\"Netherland\",\"Trinidad and Tobago\",\n",
    "                \"Turks and Caicos Islands\",\"Republic Of The Congo\",\"Ivory Coast\",\"Netherlands Antilles\",\n",
    "                \"ALNACIONAL\",\"ACTIVE AERO\",\"AIR PRINT\",\"AIRPAC\",\"ALASKA\",\"ALCON\",\"AVIANCA\",\" S.A.\",\"ARIZAIR\"]\n",
    "nouveau_Pays = [\"Russia\",\"Russia\",\"Laos\",\"Democratic Republic of The Congo\",\"South Korea\",\n",
    "                \"North Korea\",\"Democratic Republic Of The Congo\",\"Czechia\",\"Democratic Republic Of The Congo\",\n",
    "                \"Democratic Republic Of The Congo\",\n",
    "                \"Republic Of The Congo\",\"Antigua And Barbuda\",\"Bosnia And Herzegovina\",\"Myanmar (Burma)\",\"Myanmar (Burma)\",\n",
    "                \"Hong Kong\",\"Syria\",\"Netherlands\",\"Trinidad And Tobago\",\"Turks And Caicos Islands\",\"Congo\",\n",
    "                \"Cote D'ivoire (Ivory Coast)\",\"Netherlands\",\n",
    "                \"Dominican Republic\",\"United States\",\"United States\",\"United States\",\"United States\",\"Ukraine\",\n",
    "                \"Colombia\",\"Colombia\",\"United States\"]\n",
    "\n",
    "df_airlinesOpenFlight['Country'] = df_airlinesOpenFlight['Country'].replace(ancien_Pays,nouveau_Pays)\n",
    "\n",
    "df_compagnies = pd.merge(df_compagnies,df_airlinesOpenFlight[['Code_ICAO','Country']], how=\"left\", on=\"Code_ICAO\")\n",
    "df_compagnies.to_csv(chemin+\"compagniesANLO.csv\", index=False)\n"
   ]
  },
  {
   "cell_type": "markdown",
   "metadata": {},
   "source": [
    "Vérification pays"
   ]
  },
  {
   "cell_type": "code",
   "execution_count": 38,
   "metadata": {},
   "outputs": [
    {
     "data": {
      "text/plain": [
       "array([], dtype=object)"
      ]
     },
     "execution_count": 38,
     "metadata": {},
     "output_type": "execute_result"
    }
   ],
   "source": [
    "#Vérification des données :\n",
    "#Si array vide, alors tous les pays de la df_compagnies existe dans df_pays\n",
    "df_pays = pd.read_csv(chemin+\"countries.csv\")\n",
    "np.setdiff1d(df_compagnies['Country'].unique()[1:],df_pays['country'].unique())"
   ]
  },
  {
   "cell_type": "markdown",
   "metadata": {},
   "source": [
    "### Récupération des aéroports <a class=\"anchor\" id=\"chapter2\"></a>"
   ]
  },
  {
   "cell_type": "code",
   "execution_count": 39,
   "metadata": {},
   "outputs": [],
   "source": [
    "#Récupération des aéroports via l'API flight radar\n",
    "df_airport = pd.DataFrame(fr.get_airports()['rows'])\n",
    "\n",
    "#Récupération des aéroports via un fichier csv\n",
    "df_airportOpenFlight = pd.read_csv(chemin+\"airportsOpenFlights.csv\")\n",
    "\n",
    "#On ajoute la colonne 'city' dans notre df_airport\n",
    "df_airport = pd.merge(df_airport,df_airportOpenFlight[['icao','city']], how=\"left\", on=\"icao\")\n",
    "\n",
    "\n",
    "#Mise en forme des données\n",
    "\n",
    "df_airport.rename({\"name\" : \"Name\",\"iata\" : \"Iata\", \"icao\" : \"Icao\",\n",
    "                    \"lat\" : \"Lat\",\"lon\" : \"Lon\",\"country\" : \"Country\",\n",
    "                    \"alt\" : \"Alt\",\"city\" :\"City\"},axis=1,inplace=True)\n",
    "\n",
    "df_airport['Country'] = df_airport['Country'].replace([\"Virgin Islands, British\",\"Virgin Islands, Us\"],\n",
    "                                                        [\"Virgin Islands British\",\"Virgin Islands US\" ])\n",
    "\n",
    "\n",
    "\n",
    "#Export en csv\n",
    "#df_airport.to_csv(chemin+\"aeroportsANLO.csv\",index=False)"
   ]
  },
  {
   "cell_type": "markdown",
   "metadata": {},
   "source": [
    "### Nettoyage de Df_vols (après coup) <a class=\"anchor\" id=\"chapter3\"></a>"
   ]
  },
  {
   "cell_type": "markdown",
   "metadata": {},
   "source": [
    "Réduction du fichier de vols"
   ]
  },
  {
   "cell_type": "code",
   "execution_count": null,
   "metadata": {},
   "outputs": [],
   "source": [
    "fichier_initial = chemin + \"Vols_SansDoublons.csv\"\n",
    "df_vols = pd.read_csv(fichier_initial)\n",
    "df_vols = df_vols[[\"Depart\",\"Arrivee\",\"Code_ICAO\"]]\n",
    "df_vols.to_csv(chemin+\"routesANLO.csv\", index=False)"
   ]
  },
  {
   "cell_type": "markdown",
   "metadata": {},
   "source": [
    "Nettoyage du fichier"
   ]
  },
  {
   "cell_type": "code",
   "execution_count": 62,
   "metadata": {},
   "outputs": [],
   "source": [
    "#Chargement des données :\n",
    "df_vols = pd.read_csv(chemin + \"routesANLO.csv\")\n",
    "df_vols = df_vols[[\"Depart\",\"Arrivee\",\"Code_ICAO\"]].dropna()\n",
    "\n",
    "dict_aeroports = {}\n",
    "\n",
    "with open(chemin+'aeroportsANLO.csv', mode='r') as inp:\n",
    "    reader = csv.reader(inp)\n",
    "    headers = next(reader, None)\n",
    "    dict_aeroports = {rows[1]:dict(zip(headers,rows[0:8])) for rows in reader}\n"
   ]
  },
  {
   "cell_type": "code",
   "execution_count": 63,
   "metadata": {},
   "outputs": [],
   "source": [
    "#Nettoyage de la df_vols\n",
    "for _, ligne in df_vols.iterrows():\n",
    "    if not(ligne.Depart in dict_aeroports):\n",
    "        df_vols.drop(df_vols[df_vols['Depart'] == ligne.Depart].index, inplace=True)\n",
    "        df_vols.drop(df_vols[df_vols['Arrivee'] == ligne.Depart].index, inplace=True)\n",
    "    \n",
    "    if not(ligne.Arrivee in dict_aeroports):\n",
    "        df_vols.drop(df_vols[df_vols['Arrivee'] == ligne.Arrivee].index, inplace=True)\n",
    "        df_vols.drop(df_vols[df_vols['Depart'] == ligne.Arrivee].index, inplace=True)\n"
   ]
  },
  {
   "cell_type": "code",
   "execution_count": 64,
   "metadata": {},
   "outputs": [],
   "source": [
    "#Export en csv\n",
    "df_vols.to_csv(chemin+\"routesANLO.csv\", index=False)"
   ]
  }
 ],
 "metadata": {
  "interpreter": {
   "hash": "8df4cd6b480341a528eb3de81f31591d759613ab8b7a67538af91f05591cd5f2"
  },
  "kernelspec": {
   "display_name": "Python 3.9.7 64-bit",
   "language": "python",
   "name": "python3"
  },
  "language_info": {
   "codemirror_mode": {
    "name": "ipython",
    "version": 3
   },
   "file_extension": ".py",
   "mimetype": "text/x-python",
   "name": "python",
   "nbconvert_exporter": "python",
   "pygments_lexer": "ipython3",
   "version": "3.9.7"
  },
  "orig_nbformat": 4
 },
 "nbformat": 4,
 "nbformat_minor": 2
}
